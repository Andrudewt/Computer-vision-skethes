{
 "cells": [
  {
   "cell_type": "markdown",
   "id": "3ec506b4",
   "metadata": {},
   "source": [
    "1. Трекинг объекта по цвету с использованием ползунков диапазона цвета в пространстве HSV\n",
    "с маркировкой объекта ограничивающим прямоугольником."
   ]
  },
  {
   "cell_type": "code",
   "execution_count": null,
   "id": "3c9af4e1",
   "metadata": {
    "scrolled": true
   },
   "outputs": [],
   "source": [
    "import cv2\n",
    "import numpy as np\n",
    "\n",
    "kernel = np.ones((5, 5), np.uint8)\n",
    "cap = cv2.VideoCapture(0)\n",
    "\n",
    "def nothing(x):\n",
    "    pass\n",
    "cv2.namedWindow('controls', cv2.WINDOW_NORMAL)\n",
    "\n",
    "cv2.createTrackbar('H_lower','controls', 0, 179, nothing)\n",
    "cv2.createTrackbar('S_lower','controls', 0, 255, nothing)\n",
    "cv2.createTrackbar('V_lower','controls', 0, 255, nothing)\n",
    "cv2.createTrackbar('H_upper','controls', 0, 179, nothing)\n",
    "cv2.createTrackbar('S_upper','controls', 0, 255, nothing)\n",
    "cv2.createTrackbar('V_upper','controls', 0, 255, nothing)\n",
    "\n",
    "alive = True\n",
    "while alive:\n",
    "    \n",
    "    _, frame = cap.read()\n",
    "    frame = cv2.flip(frame, 1)  #  делаем эффект зеркала\n",
    "    \n",
    "    # Convert BGR to HSV\n",
    "    hsv = cv2.cvtColor(frame, cv2.COLOR_BGR2HSV)\n",
    "    \n",
    "    H_l = int(cv2.getTrackbarPos('H_lower', 'controls'))\n",
    "    H_u = int(cv2.getTrackbarPos('H_upper', 'controls'))\n",
    "    S_l = int(cv2.getTrackbarPos('S_lower', 'controls'))\n",
    "    S_u = int(cv2.getTrackbarPos('S_upper', 'controls'))\n",
    "    V_l = int(cv2.getTrackbarPos('V_lower', 'controls'))\n",
    "    V_u = int(cv2.getTrackbarPos('V_upper', 'controls'))\n",
    "    \n",
    "    # define range of the color in HSV\n",
    "    lower = np.array([H_l, S_l, V_l])\n",
    "    upper = np.array([H_u, S_u, V_u])\n",
    "    \n",
    "    # Threshold the HSV image to get only the color\n",
    "    mask = cv2.inRange(hsv, lower, upper)\n",
    "    opening = cv2.morphologyEx(mask, cv2.MORPH_OPEN, kernel)\n",
    "    closing = cv2.morphologyEx(opening, cv2.MORPH_CLOSE, kernel)\n",
    "    \n",
    "    contours, h = cv2.findContours(closing, cv2.RETR_TREE, cv2.CHAIN_APPROX_SIMPLE)\n",
    "    contours = sorted(contours, key=cv2.contourArea, reverse=True)\n",
    "    \n",
    "    for x in range(len(contours)):\n",
    "        area = cv2.contourArea(contours[x])\n",
    "        if area > 600:\n",
    "            x, y, w, h = cv2.boundingRect(contours[x])\n",
    "            frame = cv2.rectangle(frame, (x, y), (x+w, y+h), (0, 255, 0), 2)\n",
    "            frame = cv2.rectangle(frame, (x, y), (x+60, y-25), (0, 0, 0), -1)\n",
    "            cv2.putText(frame, 'Object', (x, y), cv2.FONT_HERSHEY_SIMPLEX, 1.0, (255, 255, 255), 2)\n",
    "            frame = cv2.circle(frame, (x + (w//2), y + (h//2)), 15, (0, 255, 0), -1)\n",
    "            print('x: ', (w//2), 'y: ', (h//2))  #фиксируем координаты объекта\n",
    "    \n",
    "    cv2.namedWindow('mask', cv2.WINDOW_NORMAL)\n",
    "    cv2.imshow('mask', mask)\n",
    "    cv2.namedWindow('frame', cv2.WINDOW_NORMAL)\n",
    "    cv2.imshow('frame', frame)\n",
    "    \n",
    "    key = cv2.waitKey(5) & 0xFF\n",
    "    if key == ord('Q') or key == ord('q') or key == 27:\n",
    "        alive = False\n",
    "\n",
    "        \n",
    "\n",
    "cap.release() \n",
    "cv2.destroyAllWindows()\n",
    "cv2.waitKey(1)"
   ]
  },
  {
   "cell_type": "code",
   "execution_count": 1,
   "id": "940cb532",
   "metadata": {},
   "outputs": [
    {
     "data": {
      "text/html": [
       "\n",
       "<video width=524 controls>\n",
       "  <source src=\"vid.mp4\" type=\"video/mp4\">\n",
       "</video>\n"
      ],
      "text/plain": [
       "<IPython.core.display.HTML object>"
      ]
     },
     "execution_count": 1,
     "metadata": {},
     "output_type": "execute_result"
    }
   ],
   "source": [
    "# видео с примером работы алгоритма\n",
    "\n",
    "from IPython.display import HTML\n",
    "HTML(\"\"\"\n",
    "<video width=524 controls>\n",
    "  <source src=\"vid.mp4\" type=\"video/mp4\">\n",
    "</video>\n",
    "\"\"\")"
   ]
  }
 ],
 "metadata": {
  "kernelspec": {
   "display_name": "Python 3 (ipykernel)",
   "language": "python",
   "name": "python3"
  },
  "language_info": {
   "codemirror_mode": {
    "name": "ipython",
    "version": 3
   },
   "file_extension": ".py",
   "mimetype": "text/x-python",
   "name": "python",
   "nbconvert_exporter": "python",
   "pygments_lexer": "ipython3",
   "version": "3.8.10"
  }
 },
 "nbformat": 4,
 "nbformat_minor": 5
}
